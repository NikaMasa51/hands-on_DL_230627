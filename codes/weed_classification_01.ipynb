{
  "nbformat": 4,
  "nbformat_minor": 0,
  "metadata": {
    "colab": {
      "name": "weed_classification_01",
      "provenance": [],
      "toc_visible": true,
      "include_colab_link": true
    },
    "kernelspec": {
      "name": "python3",
      "display_name": "Python 3"
    },
    "accelerator": "GPU"
  },
  "cells": [
    {
      "cell_type": "markdown",
      "metadata": {
        "id": "view-in-github",
        "colab_type": "text"
      },
      "source": [
        "<a href=\"https://colab.research.google.com/github/NikaMasa51/hands-on_DL_230627/blob/main/codes/weed_classification_01.ipynb\" target=\"_parent\"><img src=\"https://colab.research.google.com/assets/colab-badge.svg\" alt=\"Open In Colab\"/></a>"
      ]
    },
    {
      "cell_type": "markdown",
      "source": [
        "weed_classification_01  \n",
        "Masanori Ishii & Wei Guo  \n",
        "2022.08.26"
      ],
      "metadata": {
        "id": "KJxJq4P9Ln0o"
      }
    },
    {
      "cell_type": "markdown",
      "metadata": {
        "id": "op_4dXNe5oEV"
      },
      "source": [
        "# Build a Weed Discriminator by image clasification model  \n",
        "  We prepared a weed dataset that include 10 species of weeds  \n",
        "\n",
        "雑草の生育期間を区別せずに分類器を作る（10種類）  \n",
        "　雑草の生育期間（芽生え・生育済み）を区別せずに分類器を作成します。 育成した雑草の種類はハキダメギク、ホソアオゲイトウ、イチビ、イヌビエ、コセンダングサ、マメアサガオ、メヒシバ、オヒシバ、オイヌタデ、シロザの10種類です"
      ]
    },
    {
      "cell_type": "markdown",
      "metadata": {
        "id": "NCQh_T0zLntu"
      },
      "source": [
        "### Download the Dataset\n",
        "データのダウンロード"
      ]
    },
    {
      "cell_type": "markdown",
      "metadata": {
        "id": "0jdbMuOmSpjy"
      },
      "source": [
        "download weeds_1.zip"
      ]
    },
    {
      "cell_type": "code",
      "metadata": {
        "id": "dkXy31etIQpT"
      },
      "source": [
        "import gdown\n",
        "# weeds_1\n",
        "url = \"https://drive.google.com/file/d/1w8UOD_vFWEzL3MYr4Gl1oF-Fiy7iklUW/view?usp=sharing\"\n",
        "output= \"weeds_1.zip\"\n",
        "gdown.download(url=url, output=output, quiet=False, fuzzy=True)"
      ],
      "execution_count": null,
      "outputs": []
    },
    {
      "cell_type": "markdown",
      "metadata": {
        "id": "fKmeWPABPKpp"
      },
      "source": [
        "weeds_1.zipを解凍します"
      ]
    },
    {
      "cell_type": "code",
      "metadata": {
        "id": "CAC7SLKpJqEl"
      },
      "source": [
        "!unzip weeds_1.zip\n",
        "print(\"unzip weeds\")"
      ],
      "execution_count": null,
      "outputs": []
    },
    {
      "cell_type": "markdown",
      "metadata": {
        "id": "PzF0mQNICl6x"
      },
      "source": [
        "### Prepare the dataset\n",
        "データセットの準備"
      ]
    },
    {
      "cell_type": "markdown",
      "metadata": {
        "id": "6gWEdpQ6tv4G"
      },
      "source": [
        "Display the images of weeds dataset  (\"sprout\", \"grown\")  \n",
        "データセットの画像を表示します（芽生え・生育済み）"
      ]
    },
    {
      "cell_type": "code",
      "metadata": {
        "id": "hp5n6m-AM6cX"
      },
      "source": [
        "import os\n",
        "import glob\n",
        "import matplotlib.pyplot as plt\n",
        "from PIL import Image\n",
        "\n",
        "def show_img():\n",
        "  #　雑草名と生育状態をリストに定義\n",
        "  # weed_names = os.listdir('weeds_1/')\n",
        "  # weed_types = os.listdir(os.path.join('weeds_1/', weed_names[0]))\n",
        "  weed_names = [\"hakidamegiku\",\"hosoaogeitou\",\"ichibi\",\"inubie\",\"kosendangusa\",\"mameasagao\",\"mehishiba\",\"ohishiba\",\"oinutade\",\"shiroza\"]\n",
        "  weed_types = [\"sprout\", \"grown\"]\n",
        "\n",
        "  #　データ格納フォルダを指定\n",
        "  input_dir = \"./weeds_1\"\n",
        "\n",
        "  #　リストの長さを足して表示枚数を確認\n",
        "  hs = len(weed_names)*len(weed_types)\n",
        "\n",
        "  #　表示設定\n",
        "  col=len(weed_names)\n",
        "  row=int(hs/col)\n",
        "  cols=col*4\n",
        "  rows=row*4\n",
        "  dpis = 100\n",
        "\n",
        "  #　イメージの表示サイズ、解像度\n",
        "  fig = plt.figure(figsize=(cols,rows),dpi=dpis)\n",
        "\n",
        "  #　＊＊番目に指定\n",
        "  pi=1\n",
        "\n",
        "  #　イメージ表示\n",
        "  for weed_name in weed_names:\n",
        "    #　1段目\n",
        "    img_path = os.path.join(input_dir, weed_name, weed_types[0])\n",
        "    img_list = os.listdir(img_path)\n",
        "    plot_num = pi\n",
        "    ax=fig.add_subplot(row, col, plot_num)\n",
        "    ax.set_title(weed_name, fontsize=20)\n",
        "    if plot_num == 1:\n",
        "      plt.ylabel(weed_types[0], fontsize=20) # y軸ラベル\n",
        "    img = Image.open(os.path.join(img_path, img_list[6])) # indexを変更して別の画像を表示！！\n",
        "    plt.xticks(color=\"None\")\n",
        "    plt.yticks(color=\"None\")\n",
        "    plt.tick_params(length=0)\n",
        "    plt.imshow(img, cmap='gray')\n",
        "  #　2段目\n",
        "    img_path = os.path.join(input_dir, weed_name, weed_types[1])\n",
        "    img_list = os.listdir(img_path)\n",
        "    plot_num2 = pi+10\n",
        "    bx=fig.add_subplot(row, col, plot_num2)\n",
        "    bx.set_title(weed_name, fontsize=20, pad=0)\n",
        "    if plot_num2 == 11:\n",
        "      plt.ylabel(weed_types[1], fontsize=20) # y軸ラベル\n",
        "    img2 = Image.open(os.path.join(img_path, img_list[2]))\n",
        "    plt.xticks(color=\"None\")\n",
        "    plt.yticks(color=\"None\")\n",
        "    plt.tick_params(length=0)\n",
        "    plt.imshow(img2, cmap='gray')\n",
        "    pi = pi+1\n",
        "  fig.align_labels()\n",
        "\n",
        "show_img()"
      ],
      "execution_count": null,
      "outputs": []
    },
    {
      "cell_type": "markdown",
      "metadata": {
        "id": "13kgHJHOTLy9"
      },
      "source": [
        "Generate the directory of train、validation、prediction  \n",
        "train、validation、prediction用のディレクトリを作成し、class用のディレクトリを追加します"
      ]
    },
    {
      "cell_type": "code",
      "source": [
        "# debug use\n",
        "# import shutil\n",
        "# shutil.rmtree('CLS/', ignore_errors=True)"
      ],
      "metadata": {
        "id": "1cN2BtNFQWvj"
      },
      "execution_count": null,
      "outputs": []
    },
    {
      "cell_type": "code",
      "metadata": {
        "id": "3zsW_yV4blgv"
      },
      "source": [
        "import os, shutil\n",
        "\n",
        "# make directory CLS\n",
        "base_dir = \"./CLS\"\n",
        "if \"CLS\" not in os.listdir(\"./\"):\n",
        "  os.mkdir(base_dir)\n",
        "else:\n",
        "  print(base_dir, \"already exists\")\n",
        "\n",
        "# make directory train\n",
        "train_index = \"train\"\n",
        "train_dir = os.path.join(base_dir, train_index)\n",
        "if train_index not in os.listdir(base_dir):\n",
        "  os.mkdir(train_dir)\n",
        "else:\n",
        "  print(train_dir + \"already exists\")\n",
        "\n",
        "# make directory validation\n",
        "validation_index = \"validation\"\n",
        "validation_dir = os.path.join(base_dir, validation_index)\n",
        "if validation_index not in os.listdir(base_dir):\n",
        "  os.mkdir(validation_dir)\n",
        "else:\n",
        "  print(validation_dir + \"already exists\")\n",
        "\n",
        "# make directory prediction\n",
        "prediction_index = \"prediction\"\n",
        "prediction_dir = os.path.join(base_dir, prediction_index)\n",
        "if prediction_index not in os.listdir(base_dir):\n",
        "  os.mkdir(prediction_dir)\n",
        "else:\n",
        "  print(prediction_dir + \"already exists\")\n",
        "\n",
        "# make directory class\n",
        "# weed_names = os.listdir('weeds_1/')\n",
        "# weed_types = os.listdir(os.path.join('weeds_1/', weed_names[0]))\n",
        "# classes=weed_names\n",
        "weed_names = [\"hakidamegiku\",\"hosoaogeitou\",\"ichibi\",\"inubie\",\"kosendangusa\",\"mameasagao\",\"mehishiba\",\"ohishiba\",\"oinutade\",\"shiroza\"]\n",
        "weed_types = [\"sprout\", \"grown\"]\n",
        "classes=[\"hakidamegiku\",\"hosoaogeitou\",\"ichibi\",\n",
        "         \"inubie\",\"kosendangusa\",\"mameasagao\",\n",
        "         \"mehishiba\",\"ohishiba\",\"oinutade\",\"shiroza\",]\n",
        "dirs = os.listdir(base_dir)\n",
        "for dir in dirs:\n",
        "  for cls in classes:\n",
        "    # Directory with our training pictures\n",
        "    class_dir = os.path.join(base_dir, dir, cls)\n",
        "    if cls not in os.listdir(base_dir + \"/\" + dir):\n",
        "      os.mkdir(class_dir)\n",
        "    else:\n",
        "      print(class_dir, \"already exists\")\n",
        "\n",
        "print(\"finished make directory\")"
      ],
      "execution_count": null,
      "outputs": []
    },
    {
      "cell_type": "markdown",
      "metadata": {
        "id": "8CPwpwvHcAOZ"
      },
      "source": [
        "Split images to directory  \n",
        "画像をディレクトリに振り分けます"
      ]
    },
    {
      "cell_type": "code",
      "source": [
        "import numpy as np\n",
        "from os.path import join\n",
        "clsdir = \"./weeds_1\"\n",
        "base_dir = \"./CLS\"\n",
        "#weed_names = [\"hakidamegiku\",\"hosoaogeitou\",\"ichibi\",\"inubie\",\"kosendangusa\",\"mameasagao\",\"mehishiba\",\"ohishiba\",\"oinutade\",\"shiroza\"]\n",
        "#weed_types = [\"sprout\", \"grown\"]\n",
        "rads=np.arange(0,200)\n",
        "np.random.shuffle(rads)\n",
        "#print(rads)\n",
        "train_idx, val_idx,test_idx=np.split(rads, [int(.7 * len(rads)), int(.9 * len(rads))])\n",
        "for weed_name in weed_names:\n",
        "  for weed_type in weed_types:\n",
        "    file_names = os.listdir(os.path.join(clsdir, weed_name, weed_type))\n",
        "    for idx in train_idx:\n",
        "        # 移動元のファイル\n",
        "        path1 = os.path.join(clsdir, weed_name, weed_type, file_names[idx])\n",
        "        # 移動先のファイル\n",
        "        path2= os.path.join(base_dir, \"train\", weed_name, file_names[idx])\n",
        "        # ファイルを移動\n",
        "        new_path = shutil.copy(path1, path2)\n",
        "        #print('copied training data')\n",
        "    for idx in val_idx:\n",
        "        # 移動元のファイル\n",
        "        path1 = os.path.join(clsdir, weed_name, weed_type, file_names[idx])\n",
        "        # 移動先のファイル\n",
        "        path2= os.path.join(base_dir, \"validation\", weed_name, file_names[idx])\n",
        "        # ファイルを移動\n",
        "        new_path = shutil.copy(path1, path2)\n",
        "        #print('copied vilidation data')\n",
        "    for idx in test_idx:\n",
        "        # 移動元のファイル\n",
        "        path1 = os.path.join(clsdir, weed_name, weed_type, file_names[idx])\n",
        "        # 移動先のファイル\n",
        "        path2= os.path.join(base_dir, \"prediction\", weed_name, file_names[idx])\n",
        "        # ファイルを移動\n",
        "        new_path = shutil.copy(path1, path2)\n",
        "        #print('copied test data')\n",
        "print('finished copy')"
      ],
      "metadata": {
        "id": "1GYvV8zaG1pT"
      },
      "execution_count": null,
      "outputs": []
    },
    {
      "cell_type": "code",
      "source": [
        "train_nums=len(os.listdir('CLS/train/ichibi'))\n",
        "print('number of train image',train_nums)\n",
        "val_nums=len(os.listdir('CLS/validation/ichibi'))\n",
        "print('number of train image',val_nums)\n",
        "test_nums=len(os.listdir('CLS/prediction/ichibi'))\n",
        "print('number of test image',test_nums)"
      ],
      "metadata": {
        "id": "1rkM8iiPK5or"
      },
      "execution_count": null,
      "outputs": []
    },
    {
      "cell_type": "markdown",
      "metadata": {
        "id": "89zSPJPufnsz"
      },
      "source": [
        "・trainデータ、validationデータ、predictionデータのgeneratorを作成します"
      ]
    },
    {
      "cell_type": "code",
      "metadata": {
        "id": "ork4z7VlHv5T"
      },
      "source": [
        "import os\n",
        "import numpy as np\n",
        "from tensorflow import keras\n",
        "from keras.preprocessing.image import ImageDataGenerator\n",
        "import keras.preprocessing.image as Image\n",
        "\n",
        "input_size = 224\n",
        "\n",
        "train_dir = \"./CLS/train\"\n",
        "validation_dir = \"./CLS/validation\"\n",
        "\n",
        "\n",
        "train_datagen = Image.ImageDataGenerator(\n",
        "            featurewise_center = False,\n",
        "            samplewise_center = False,\n",
        "            featurewise_std_normalization = False,\n",
        "            samplewise_std_normalization = False,\n",
        "            zca_whitening = False,\n",
        "            rotation_range = 90,\n",
        "            width_shift_range = 0.3,\n",
        "            height_shift_range = 0.3,\n",
        "            horizontal_flip = True,\n",
        "            vertical_flip = False,\n",
        "            rescale=1./255\n",
        "        )\n",
        "\n",
        "val_datagen = Image.ImageDataGenerator(rescale=1./255)\n",
        "\n",
        "\n",
        "\n",
        "train_generator = train_datagen.flow_from_directory(\n",
        "            train_dir,\n",
        "            target_size=(input_size,input_size),\n",
        "            batch_size=10,\n",
        "            class_mode='categorical'\n",
        "        )\n",
        "\n",
        "validation_generator = val_datagen.flow_from_directory(\n",
        "            validation_dir,\n",
        "            target_size=(input_size,input_size),\n",
        "            batch_size=10,\n",
        "            class_mode='categorical'\n",
        "        )\n",
        "print(\"dataset prepared\")"
      ],
      "execution_count": null,
      "outputs": []
    },
    {
      "cell_type": "markdown",
      "metadata": {
        "id": "SnbD3y_Zh7Pg"
      },
      "source": [
        "### Model Training\n",
        "トレーニングの実行"
      ]
    },
    {
      "cell_type": "markdown",
      "metadata": {
        "id": "cR5MXYEeWvGq"
      },
      "source": [
        "Defome model layers  \n",
        "モデルのレイヤー構成を定義します"
      ]
    },
    {
      "cell_type": "code",
      "metadata": {
        "id": "5dq94WdxULw9"
      },
      "source": [
        "\n",
        "#ファインチューニング+VGG+水増し。ここから実行してOK（VGG16をダウンロード）\n",
        "from keras import models\n",
        "from keras import layers\n",
        "from keras.optimizers import adam_v2\n",
        "from keras.layers import Dense, Dropout, Activation, Flatten\n",
        "from keras.applications.vgg16 import VGG16\n",
        "import tensorflow as tf\n",
        "import tensorflow.keras.backend as K\n",
        "from tensorflow.keras.callbacks import History, Callback\n",
        "# from keras.objectives import categorical_crossentropy\n",
        "import numpy as np\n",
        "from sklearn.metrics import confusion_matrix, accuracy_score\n",
        "# from keras.utils import to_categorical\n",
        "from tensorflow.keras.utils import to_categorical\n",
        "from scipy.stats import mode\n",
        "import os, pickle\n",
        "\n",
        "def create_cnn():\n",
        "  input_size=224\n",
        "  #input_sizeは224,224までOK。\n",
        "\n",
        "  vgg_conv = VGG16(weights='imagenet', include_top=False, input_shape=(input_size,input_size, 3))\n",
        "  last = vgg_conv.output\n",
        "\n",
        "  vgg_conv.trainable = True\n",
        "\n",
        "  set_trainable = False\n",
        "  for layer in vgg_conv.layers:\n",
        "    if layer.name == 'block5_conv1':\n",
        "      set_trainable = True\n",
        "    if set_trainable:\n",
        "      layer.trainable = True\n",
        "    else:\n",
        "      layer.trainable = False\n",
        "\n",
        "  mod = Flatten()(last)\n",
        "  mod = Dense(256, activation='relu')(mod)\n",
        "  #mod = Dropout(0.5)(mod)\n",
        "  preds = Dense(10, activation='softmax')(mod)\n",
        "\n",
        "  model = models.Model(vgg_conv.input, preds)\n",
        "\n",
        "  return model\n",
        "print(\"Layer defined！\")\n",
        "print(\"レイヤー構成を定義しました！\")"
      ],
      "execution_count": null,
      "outputs": []
    },
    {
      "cell_type": "markdown",
      "metadata": {
        "id": "vMCP246j39AB"
      },
      "source": [
        "Define check point (save the weight when reach to best val loss )  \n",
        "チェックポイントを定義します(val lossが一番低い値の時にweightファイルを保存)"
      ]
    },
    {
      "cell_type": "code",
      "metadata": {
        "id": "Sa68Qz4p3_Ov"
      },
      "source": [
        "class Checkpoint(Callback):\n",
        "    def __init__(self, model, filepath):\n",
        "        self.model = model\n",
        "        self.filepath = filepath\n",
        "        self.best_val_acc = 0.0\n",
        "        self.best_val_loss = 0.7\n",
        "\n",
        "    def on_epoch_end(self, epoch, logs):\n",
        "        # val_lossが最小の時ににweightを保存する\n",
        "        if self.best_val_loss > logs[\"val_loss\"]:\n",
        "            self.model.save_weights(self.filepath)\n",
        "            self.best_val_loss = logs[\"val_loss\"]\n",
        "            print(\"Weights saved.\", self.best_val_loss)\n",
        "print(\"Check point defined！\")\n",
        "print(\"チェックポイントを定義しました！\")"
      ],
      "execution_count": null,
      "outputs": []
    },
    {
      "cell_type": "markdown",
      "metadata": {
        "id": "3-DwQxyRfdxG"
      },
      "source": [
        "Define training process  \n",
        "学習の実行手順を定義します"
      ]
    },
    {
      "cell_type": "code",
      "metadata": {
        "id": "dLkWD57CZJEX"
      },
      "source": [
        "def train():\n",
        "    print(\"start training\")\n",
        "    print(\"学習を開始します\")\n",
        "    hist = History()\n",
        "    train_model = create_cnn()\n",
        "    # train_model.compile(optimizer=adam_v2.Adam(learning_rate=1e-5),loss='categorical_crossentropy',metrics=['accuracy'])\n",
        "    train_model.compile(optimizer=Adam(learning_rate=1e-5),loss='categorical_crossentropy',metrics=['accuracy'])\n",
        "    cp = Checkpoint(train_model, f\"weights.hdf5\")\n",
        "    train_model.fit_generator(train_generator,epochs=10,validation_data=validation_generator,callbacks=[hist, cp])\n",
        "    print(\"finished training\")\n",
        "    print(\"学習が完了しました\")\n",
        "    return hist.history\n",
        "print(\"training process defined\")\n",
        "print(\"実行手順を定義しました！\")"
      ],
      "execution_count": null,
      "outputs": []
    },
    {
      "cell_type": "markdown",
      "metadata": {
        "id": "MjCJKxdZXbbK"
      },
      "source": [
        "Start training  \n",
        "学習を開始します"
      ]
    },
    {
      "cell_type": "code",
      "metadata": {
        "id": "fqaVKLXZgiEZ",
        "colab": {
          "base_uri": "https://localhost:8080/"
        },
        "outputId": "0b6cc2f6-83e1-4798-cd34-13a9526ba8d3"
      },
      "source": [
        "K.clear_session()\n",
        "hist = train()"
      ],
      "execution_count": null,
      "outputs": [
        {
          "metadata": {
            "tags": null
          },
          "name": "stdout",
          "output_type": "stream",
          "text": [
            "start training\n",
            "学習を開始します\n"
          ]
        },
        {
          "metadata": {
            "tags": null
          },
          "name": "stderr",
          "output_type": "stream",
          "text": [
            "<ipython-input-13-5d881c1ffd16>:9: UserWarning: `Model.fit_generator` is deprecated and will be removed in a future version. Please use `Model.fit`, which supports generators.\n",
            "  train_model.fit_generator(train_generator,epochs=10,validation_data=validation_generator,callbacks=[hist, cp])\n"
          ]
        },
        {
          "output_type": "stream",
          "name": "stdout",
          "text": [
            "Epoch 1/10\n",
            "280/280 [==============================] - 72s 217ms/step - loss: 1.7443 - accuracy: 0.3732 - val_loss: 1.0465 - val_accuracy: 0.6413\n",
            "Epoch 2/10\n",
            "280/280 [==============================] - ETA: 0s - loss: 0.9987 - accuracy: 0.6475Weights saved. 0.6882824897766113\n",
            "280/280 [==============================] - 49s 174ms/step - loss: 0.9987 - accuracy: 0.6475 - val_loss: 0.6883 - val_accuracy: 0.7613\n",
            "Epoch 3/10\n",
            "280/280 [==============================] - ETA: 0s - loss: 0.7393 - accuracy: 0.7414Weights saved. 0.5948314070701599\n",
            "280/280 [==============================] - 50s 178ms/step - loss: 0.7393 - accuracy: 0.7414 - val_loss: 0.5948 - val_accuracy: 0.7937\n",
            "Epoch 4/10\n",
            "280/280 [==============================] - ETA: 0s - loss: 0.6214 - accuracy: 0.7746Weights saved. 0.42017531394958496\n",
            "280/280 [==============================] - 48s 170ms/step - loss: 0.6214 - accuracy: 0.7746 - val_loss: 0.4202 - val_accuracy: 0.8587\n",
            "Epoch 5/10\n",
            "280/280 [==============================] - ETA: 0s - loss: 0.5010 - accuracy: 0.8171Weights saved. 0.3636447787284851\n",
            "280/280 [==============================] - 48s 172ms/step - loss: 0.5010 - accuracy: 0.8171 - val_loss: 0.3636 - val_accuracy: 0.8725\n",
            "Epoch 6/10\n",
            "280/280 [==============================] - 47s 168ms/step - loss: 0.4363 - accuracy: 0.8407 - val_loss: 0.4025 - val_accuracy: 0.8600\n",
            "Epoch 7/10\n",
            "280/280 [==============================] - ETA: 0s - loss: 0.4131 - accuracy: 0.8529Weights saved. 0.3204171359539032\n",
            "280/280 [==============================] - 48s 170ms/step - loss: 0.4131 - accuracy: 0.8529 - val_loss: 0.3204 - val_accuracy: 0.8838\n",
            "Epoch 8/10\n",
            "280/280 [==============================] - ETA: 0s - loss: 0.3642 - accuracy: 0.8711Weights saved. 0.3140295743942261\n",
            "280/280 [==============================] - 46s 166ms/step - loss: 0.3642 - accuracy: 0.8711 - val_loss: 0.3140 - val_accuracy: 0.8850\n",
            "Epoch 9/10\n",
            "280/280 [==============================] - ETA: 0s - loss: 0.3168 - accuracy: 0.8889Weights saved. 0.2828540503978729\n",
            "280/280 [==============================] - 46s 165ms/step - loss: 0.3168 - accuracy: 0.8889 - val_loss: 0.2829 - val_accuracy: 0.9000\n",
            "Epoch 10/10\n",
            "280/280 [==============================] - ETA: 0s - loss: 0.3018 - accuracy: 0.8900Weights saved. 0.2818465232849121\n",
            "280/280 [==============================] - 46s 165ms/step - loss: 0.3018 - accuracy: 0.8900 - val_loss: 0.2818 - val_accuracy: 0.9038\n",
            "finished training\n",
            "学習が完了しました\n"
          ]
        }
      ]
    },
    {
      "cell_type": "markdown",
      "metadata": {
        "id": "HXMQMfNufvlL"
      },
      "source": [
        "### Check Accuracy and Loss\n",
        "正解率と損失率をグラフ化"
      ]
    },
    {
      "cell_type": "markdown",
      "metadata": {
        "id": "oP7_j_XPZY6m"
      },
      "source": [
        "accuracy and loss for Train and alidation  \n",
        "trainの正解率と損失率、validationの正解率と損失率をグラフ化します"
      ]
    },
    {
      "cell_type": "code",
      "metadata": {
        "id": "Tik0x-QsZKtC",
        "colab": {
          "base_uri": "https://localhost:8080/",
          "height": 887
        },
        "outputId": "2d7e296a-97d9-4460-cf4d-b4ecf188e3d7"
      },
      "source": [
        "import matplotlib.pyplot as plt\n",
        "\n",
        "history = hist\n",
        "\n",
        "acc=history['accuracy']\n",
        "val_acc=history['val_accuracy']\n",
        "loss=history['loss']\n",
        "val_loss=history['val_loss']\n",
        "\n",
        "epochs=range(1,len(acc)+1)\n",
        "\n",
        "#正解率plot\n",
        "plt.plot(epochs,acc,'bo',label='Training acc')\n",
        "plt.plot(epochs,val_acc,'b',label='Validation acc')\n",
        "plt.title('Training and validation accuracy')\n",
        "plt.legend()\n",
        "\n",
        "plt.figure()\n",
        "\n",
        "\n",
        "#損失値をplot\n",
        "plt.plot(epochs,loss,'bo',label='Training loss')\n",
        "plt.plot(epochs,val_loss,'b',label='Validation loss')\n",
        "plt.title('Training and validation loss')\n",
        "plt.legend()\n",
        "\n",
        "plt.show()\n"
      ],
      "execution_count": null,
      "outputs": [
        {
          "output_type": "display_data",
          "data": {
            "text/plain": [
              "<Figure size 640x480 with 1 Axes>"
            ],
            "image/png": "[encoded data removed]"
          },
          "metadata": {}
        },
        {
          "output_type": "display_data",
          "data": {
            "text/plain": [
              "<Figure size 640x480 with 1 Axes>"
            ],
            "image/png": "[encoded data removed]"
          },
          "metadata": {}
        }
      ]
    },
    {
      "cell_type": "markdown",
      "metadata": {
        "id": "8KRPYAVR_9Zn"
      },
      "source": [
        "### Test\n",
        "テスト"
      ]
    },
    {
      "cell_type": "markdown",
      "metadata": {
        "id": "ts0ZYstl6x4y"
      },
      "source": [
        "prepared data for test(prediction)  \n",
        "prediction用のデータセットを作成します"
      ]
    },
    {
      "cell_type": "code",
      "metadata": {
        "id": "VNZBgLlClER7",
        "colab": {
          "base_uri": "https://localhost:8080/"
        },
        "outputId": "e13aca10-211f-4aa6-a819-4b933d0057fa"
      },
      "source": [
        "from PIL import Image\n",
        "import os, glob\n",
        "import numpy as np\n",
        "from PIL import ImageFile\n",
        "\n",
        "ImageFile.LOAD_TRUNCATED_IMAGES =True\n",
        "\n",
        "prediction_dir = \"./CLS/prediction\"\n",
        "prediction_classes = [\"hakidamegiku\",\"hosoaogeitou\",\"ichibi\",\"inubie\",\"kosendangusa\",\"mameasagao\",\"mehishiba\",\"ohishiba\",\"oinutade\",\"shiroza\"]\n",
        "\n",
        "image_size = 224\n",
        "print(prediction_classes)\n",
        "X_test = []\n",
        "y_test = []\n",
        "for index, classlabel in enumerate(prediction_classes):\n",
        "    photos_dir = os.path.join(prediction_dir, classlabel)\n",
        "    files = glob.glob(photos_dir + \"/*.JPG\")\n",
        "    print(files)\n",
        "    for i, file in enumerate(files):\n",
        "        image = Image.open(file)\n",
        "        image = image.convert(\"RGB\")\n",
        "        image = image.resize((image_size, image_size))\n",
        "        data = np.asarray(image)\n",
        "        if i == 0:\n",
        "          print(data.shape)\n",
        "        X_test.append(data)\n",
        "        y_test.append(index)\n",
        "\n",
        "X_test1 = np.array(X_test)\n",
        "y_test1 = np.array(y_test)\n",
        "print(\"prediction data prepared！\")\n",
        "print(\"predictionデータ作成完了！\")"
      ],
      "execution_count": null,
      "outputs": [
        {
          "output_type": "stream",
          "name": "stdout",
          "text": [
            "['hakidamegiku', 'hosoaogeitou', 'ichibi', 'inubie', 'kosendangusa', 'mameasagao', 'mehishiba', 'ohishiba', 'oinutade', 'shiroza']\n",
            "['./CLS/prediction/hakidamegiku/hakidamegiku_IMG_1525_18.JPG', './CLS/prediction/hakidamegiku/hakidamegiku_IMG_1546_14.JPG', './CLS/prediction/hakidamegiku/hakidamegiku_IMG_1547_18.JPG', './CLS/prediction/hakidamegiku/hakidamegiku_IMG_1629_21.JPG', './CLS/prediction/hakidamegiku/hakidamegiku_IMG_1773_4.JPG', './CLS/prediction/hakidamegiku/hakidamegiku_IMG_1652_3.JPG', './CLS/prediction/hakidamegiku/hakidamegiku_IMG_1807_4.JPG', './CLS/prediction/hakidamegiku/hakidamegiku_IMG_1573_14.JPG', './CLS/prediction/hakidamegiku/hakidamegiku_IMG_1794_10.JPG', './CLS/prediction/hakidamegiku/hakidamegiku_IMG_1630_15.JPG', './CLS/prediction/hakidamegiku/hakidamegiku_IMG_1546_16.JPG', './CLS/prediction/hakidamegiku/hakidamegiku_IMG_4464_6.JPG', './CLS/prediction/hakidamegiku/hakidamegiku_IMG_4464_3.JPG', './CLS/prediction/hakidamegiku/hakidamegiku_IMG_4468_4.JPG', './CLS/prediction/hakidamegiku/hakidamegiku_IMG_4463_5.JPG', './CLS/prediction/hakidamegiku/hakidamegiku_IMG_4885_5.JPG', './CLS/prediction/hakidamegiku/hakidamegiku_IMG_1574_3.JPG', './CLS/prediction/hakidamegiku/hakidamegiku_IMG_4469_5.JPG', './CLS/prediction/hakidamegiku/hakidamegiku_IMG_1787_11.JPG', './CLS/prediction/hakidamegiku/hakidamegiku_IMG_4886_4.JPG', './CLS/prediction/hakidamegiku/hakidamegiku_IMG_1795_7.JPG', './CLS/prediction/hakidamegiku/hakidamegiku_IMG_4882_1.JPG', './CLS/prediction/hakidamegiku/hakidamegiku_IMG_1786_1.JPG', './CLS/prediction/hakidamegiku/hakidamegiku_IMG_4467_5.JPG', './CLS/prediction/hakidamegiku/hakidamegiku_IMG_1652_12.JPG', './CLS/prediction/hakidamegiku/hakidamegiku_IMG_1652_15.JPG', './CLS/prediction/hakidamegiku/hakidamegiku_IMG_1525_4.JPG', './CLS/prediction/hakidamegiku/hakidamegiku_IMG_4886_1.JPG', './CLS/prediction/hakidamegiku/hakidamegiku_IMG_1596_11.JPG', './CLS/prediction/hakidamegiku/hakidamegiku_IMG_1525_1.JPG', './CLS/prediction/hakidamegiku/hakidamegiku_IMG_1574_12.JPG', './CLS/prediction/hakidamegiku/hakidamegiku_IMG_1573_10.JPG', './CLS/prediction/hakidamegiku/hakidamegiku_IMG_1794_9.JPG', './CLS/prediction/hakidamegiku/hakidamegiku_IMG_1630_2.JPG', './CLS/prediction/hakidamegiku/hakidamegiku_IMG_1795_9.JPG', './CLS/prediction/hakidamegiku/hakidamegiku_IMG_1525_10.JPG', './CLS/prediction/hakidamegiku/hakidamegiku_IMG_4465_1.JPG', './CLS/prediction/hakidamegiku/hakidamegiku_IMG_4880_3.JPG', './CLS/prediction/hakidamegiku/hakidamegiku_IMG_1630_10.JPG', './CLS/prediction/hakidamegiku/hakidamegiku_IMG_1524_19.JPG']\n",
            "(224, 224, 3)\n",
            "['./CLS/prediction/hosoaogeitou/hosoaogeitou_IMG_1616_28.JPG', './CLS/prediction/hosoaogeitou/hosoaogeitou_IMG_1526_25.JPG', './CLS/prediction/hosoaogeitou/hosoaogeitou_IMG_1781_6.JPG', './CLS/prediction/hosoaogeitou/hosoaogeitou_IMG_1654_9.JPG', './CLS/prediction/hosoaogeitou/hosoaogeitou_IMG_1632_19.JPG', './CLS/prediction/hosoaogeitou/hosoaogeitou_IMG_1768_9.JPG', './CLS/prediction/hosoaogeitou/hosoaogeitou_IMG_1597_6.JPG', './CLS/prediction/hosoaogeitou/hosoaogeitou_IMG_1800_1.JPG', './CLS/prediction/hosoaogeitou/hosoaogeitou_IMG_1597_16.JPG', './CLS/prediction/hosoaogeitou/hosoaogeitou_IMG_1527_1.JPG', './CLS/prediction/hosoaogeitou/hosoaogeitou_IMG_1631_12.JPG', './CLS/prediction/hosoaogeitou/hosoaogeitou_IMG_1800_10.JPG', './CLS/prediction/hosoaogeitou/hosoaogeitou_IMG_1616_18.JPG', './CLS/prediction/hosoaogeitou/hosoaogeitou_IMG_1632_24.JPG', './CLS/prediction/hosoaogeitou/hosoaogeitou_IMG_1527_4.JPG', './CLS/prediction/hosoaogeitou/hosoaogeitou_IMG_1527_20.JPG', './CLS/prediction/hosoaogeitou/hosoaogeitou_IMG_1597_5.JPG', './CLS/prediction/hosoaogeitou/hosoaogeitou_IMG_1781_2.JPG', './CLS/prediction/hosoaogeitou/hosoaogeitou_IMG_1597_32.JPG', './CLS/prediction/hosoaogeitou/hosoaogeitou_IMG_1616_30.JPG', './CLS/prediction/hosoaogeitou/hosoaogeitou_IMG_1598_27.JPG', './CLS/prediction/hosoaogeitou/hosoaogeitou_IMG_1798_4.JPG', './CLS/prediction/hosoaogeitou/hosoaogeitou_IMG_1799_10.JPG', './CLS/prediction/hosoaogeitou/hosoaogeitou_IMG_1526_10.JPG', './CLS/prediction/hosoaogeitou/hosoaogeitou_IMG_1811_12.JPG', './CLS/prediction/hosoaogeitou/hosoaogeitou_IMG_1654_6.JPG', './CLS/prediction/hosoaogeitou/hosoaogeitou_IMG_1616_14.JPG', './CLS/prediction/hosoaogeitou/hosoaogeitou_IMG_1616_34.JPG', './CLS/prediction/hosoaogeitou/hosoaogeitou_IMG_1632_5.JPG', './CLS/prediction/hosoaogeitou/hosoaogeitou_IMG_1654_8.JPG', './CLS/prediction/hosoaogeitou/hosoaogeitou_IMG_1548_34.JPG', './CLS/prediction/hosoaogeitou/hosoaogeitou_IMG_1800_3.JPG', './CLS/prediction/hosoaogeitou/hosoaogeitou_IMG_1632_1.JPG', './CLS/prediction/hosoaogeitou/hosoaogeitou_IMG_1811_10.JPG', './CLS/prediction/hosoaogeitou/hosoaogeitou_IMG_1812_14.JPG', './CLS/prediction/hosoaogeitou/hosoaogeitou_IMG_1576_9.JPG', './CLS/prediction/hosoaogeitou/hosoaogeitou_IMG_1598_12.JPG', './CLS/prediction/hosoaogeitou/hosoaogeitou_IMG_1575_10.JPG', './CLS/prediction/hosoaogeitou/hosoaogeitou_IMG_1800_8.JPG', './CLS/prediction/hosoaogeitou/hosoaogeitou_IMG_1598_13.JPG']\n",
            "(224, 224, 3)\n",
            "['./CLS/prediction/ichibi/ichibi_IMG_4195_6.JPG', './CLS/prediction/ichibi/ichibi_IMG_4194_8.JPG', './CLS/prediction/ichibi/ichibi_IMG_4857_4.JPG', './CLS/prediction/ichibi/ichibi_IMG_4337_3.JPG', './CLS/prediction/ichibi/ichibi_IMG_4187_3.JPG', './CLS/prediction/ichibi/ichibi_IMG_4862_5.JPG', './CLS/prediction/ichibi/ichibi_IMG_4403_2.JPG', './CLS/prediction/ichibi/ichibi_IMG_4170_5.JPG', './CLS/prediction/ichibi/ichibi_IMG_4865_6.JPG', './CLS/prediction/ichibi/ichibi_IMG_4193_7.JPG', './CLS/prediction/ichibi/ichibi_IMG_4450_7.JPG', './CLS/prediction/ichibi/ichibi_IMG_4165_11.JPG', './CLS/prediction/ichibi/ichibi_IMG_4449_3.JPG', './CLS/prediction/ichibi/ichibi_IMG_4442_9.JPG', './CLS/prediction/ichibi/ichibi_IMG_4190_5.JPG', './CLS/prediction/ichibi/ichibi_IMG_4192_4.JPG', './CLS/prediction/ichibi/ichibi_IMG_4864_4.JPG', './CLS/prediction/ichibi/ichibi_IMG_4190_4.JPG', './CLS/prediction/ichibi/ichibi_IMG_4192_6.JPG', './CLS/prediction/ichibi/ichibi_IMG_4859_9.JPG', './CLS/prediction/ichibi/ichibi_IMG_4164_2.JPG', './CLS/prediction/ichibi/ichibi_IMG_4866_6.JPG', './CLS/prediction/ichibi/ichibi_IMG_4194_10.JPG', './CLS/prediction/ichibi/ichibi_IMG_4332_12.JPG', './CLS/prediction/ichibi/ichibi_IMG_4167_3.JPG', './CLS/prediction/ichibi/ichibi_IMG_4858_2.JPG', './CLS/prediction/ichibi/ichibi_IMG_4167_4.JPG', './CLS/prediction/ichibi/ichibi_IMG_4444_8.JPG', './CLS/prediction/ichibi/ichibi_IMG_4190_10.JPG', './CLS/prediction/ichibi/ichibi_IMG_4164_6.JPG', './CLS/prediction/ichibi/ichibi_IMG_4448_6.JPG', './CLS/prediction/ichibi/ichibi_IMG_4860_6.JPG', './CLS/prediction/ichibi/ichibi_IMG_4165_9.JPG', './CLS/prediction/ichibi/ichibi_IMG_4192_11.JPG', './CLS/prediction/ichibi/ichibi_IMG_4857_9.JPG', './CLS/prediction/ichibi/ichibi_IMG_4335_2.JPG', './CLS/prediction/ichibi/ichibi_IMG_4187_5.JPG', './CLS/prediction/ichibi/ichibi_IMG_4444_5.JPG', './CLS/prediction/ichibi/ichibi_IMG_4196_12.JPG', './CLS/prediction/ichibi/ichibi_IMG_4399_10.JPG']\n",
            "(224, 224, 3)\n",
            "['./CLS/prediction/inubie/inubie_IMG_1516_15.JPG', './CLS/prediction/inubie/inubie_IMG_1580_10.JPG', './CLS/prediction/inubie/inubie_IMG_1580_4.JPG', './CLS/prediction/inubie/inubie_IMG_1502_5.JPG', './CLS/prediction/inubie/inubie_IMG_1771_10.JPG', './CLS/prediction/inubie/inubie_IMG_1580_8.JPG', './CLS/prediction/inubie/inubie_IMG_1718_3.JPG', './CLS/prediction/inubie/inubie_IMG_1562_7.JPG', './CLS/prediction/inubie/inubie_IMG_1601_5.JPG', './CLS/prediction/inubie/inubie_IMG_1517_3.JPG', './CLS/prediction/inubie/inubie_IMG_1638_14.JPG', './CLS/prediction/inubie/inubie_IMG_1586_8.JPG', './CLS/prediction/inubie/inubie_IMG_1562_13.JPG', './CLS/prediction/inubie/inubie_IMG_1502_24.JPG', './CLS/prediction/inubie/inubie_inubie_36.JPG', './CLS/prediction/inubie/inubie_IMG_1602_13.JPG', './CLS/prediction/inubie/inubie_IMG_1516_16.JPG', './CLS/prediction/inubie/inubie_IMG_1772_7.JPG', './CLS/prediction/inubie/inubie_IMG_1718_13.JPG', './CLS/prediction/inubie/inubie_IMG_1517_20.JPG', './CLS/prediction/inubie/inubie_inubie_33.JPG', './CLS/prediction/inubie/inubie_IMG_1579_13.JPG', './CLS/prediction/inubie/inubie_IMG_1730_6.JPG', './CLS/prediction/inubie/inubie_IMG_1620_4.JPG', './CLS/prediction/inubie/inubie_IMG_1772_8.JPG', './CLS/prediction/inubie/inubie_IMG_1771_16.JPG', './CLS/prediction/inubie/inubie_IMG_1602_8.JPG', './CLS/prediction/inubie/inubie_IMG_1537_15.JPG', './CLS/prediction/inubie/inubie_IMG_1539_15.JPG', './CLS/prediction/inubie/inubie_IMG_1601_7.JPG', './CLS/prediction/inubie/inubie_IMG_1659_9.JPG', './CLS/prediction/inubie/inubie_IMG_1605_7.JPG', './CLS/prediction/inubie/inubie_inubie_13.JPG', './CLS/prediction/inubie/inubie_IMG_1601_13.JPG', './CLS/prediction/inubie/inubie_IMG_1586_6.JPG', './CLS/prediction/inubie/inubie_IMG_1729_2.JPG', './CLS/prediction/inubie/inubie_IMG_1620_11.JPG', './CLS/prediction/inubie/inubie_IMG_1771_12.JPG', './CLS/prediction/inubie/inubie_IMG_1601_14.JPG', './CLS/prediction/inubie/inubie_IMG_1660_8.JPG']\n",
            "(224, 224, 3)\n",
            "['./CLS/prediction/kosendangusa/kosendangusa_IMG_4357_13.JPG', './CLS/prediction/kosendangusa/kosendangusa_IMG_4172_8.JPG', './CLS/prediction/kosendangusa/kosendangusa_IMG_4454_4.JPG', './CLS/prediction/kosendangusa/kosendangusa_IMG_1522_11.JPG', './CLS/prediction/kosendangusa/kosendangusa_IMG_4348_12.JPG', './CLS/prediction/kosendangusa/kosendangusa_IMG_4272_16.JPG', './CLS/prediction/kosendangusa/kosendangusa_IMG_4350_17.JPG', './CLS/prediction/kosendangusa/kosendangusa_IMG_1571_28.JPG', './CLS/prediction/kosendangusa/kosendangusa_IMG_4355_7.JPG', './CLS/prediction/kosendangusa/kosendangusa_IMG_4172_23.JPG', './CLS/prediction/kosendangusa/kosendangusa_IMG_4868_8.JPG', './CLS/prediction/kosendangusa/kosendangusa_IMG_1522_9.JPG', './CLS/prediction/kosendangusa/kosendangusa_IMG_4355_11.JPG', './CLS/prediction/kosendangusa/kosendangusa_IMG_4870_3.JPG', './CLS/prediction/kosendangusa/kosendangusa_IMG_4173_15.JPG', './CLS/prediction/kosendangusa/kosendangusa_IMG_4268_5.JPG', './CLS/prediction/kosendangusa/kosendangusa_IMG_4410_4.JPG', './CLS/prediction/kosendangusa/kosendangusa_IMG_4173_4.JPG', './CLS/prediction/kosendangusa/kosendangusa_IMG_4341_14.JPG', './CLS/prediction/kosendangusa/kosendangusa_IMG_4341_10.JPG', './CLS/prediction/kosendangusa/kosendangusa_IMG_4174_17.JPG', './CLS/prediction/kosendangusa/kosendangusa_IMG_4457_6.JPG', './CLS/prediction/kosendangusa/kosendangusa_IMG_4173_21.JPG', './CLS/prediction/kosendangusa/kosendangusa_IMG_4349_9.JPG', './CLS/prediction/kosendangusa/kosendangusa_IMG_4266_25.JPG', './CLS/prediction/kosendangusa/kosendangusa_IMG_4867_9.JPG', './CLS/prediction/kosendangusa/kosendangusa_IMG_4172_14.JPG', './CLS/prediction/kosendangusa/kosendangusa_IMG_4343_10.JPG', './CLS/prediction/kosendangusa/kosendangusa_IMG_1544_12.JPG', './CLS/prediction/kosendangusa/kosendangusa_IMG_4453_3.JPG', './CLS/prediction/kosendangusa/kosendangusa_kosendangusa_25.JPG', './CLS/prediction/kosendangusa/kosendangusa_kosendangusa_13.JPG', './CLS/prediction/kosendangusa/kosendangusa_IMG_4411_3.JPG', './CLS/prediction/kosendangusa/kosendangusa_IMG_4460_3.JPG', './CLS/prediction/kosendangusa/kosendangusa_IMG_4173_8.JPG', './CLS/prediction/kosendangusa/kosendangusa_IMG_4173_12.JPG', './CLS/prediction/kosendangusa/kosendangusa_IMG_4359_12.JPG', './CLS/prediction/kosendangusa/kosendangusa_kosendangusa_27.JPG', './CLS/prediction/kosendangusa/kosendangusa_IMG_4869_2.JPG', './CLS/prediction/kosendangusa/kosendangusa_kosendangusa_22.JPG']\n",
            "(224, 224, 3)\n",
            "['./CLS/prediction/mameasagao/mameasagao_IMG_0002_1.JPG', './CLS/prediction/mameasagao/mameasagao_IMG_4182_3.JPG', './CLS/prediction/mameasagao/mameasagao_IMG_4431_3.JPG', './CLS/prediction/mameasagao/mameasagao_IMG_4251_5.JPG', './CLS/prediction/mameasagao/mameasagao_IMG_9953_5.JPG', './CLS/prediction/mameasagao/mameasagao_IMG_4207_4.JPG', './CLS/prediction/mameasagao/mameasagao_IMG_8953_3.JPG', './CLS/prediction/mameasagao/mameasagao_IMG_4282_6.JPG', './CLS/prediction/mameasagao/mameasagao_IMG_4848_2.JPG', './CLS/prediction/mameasagao/mameasagao_IMG_4286_3.JPG', './CLS/prediction/mameasagao/mameasagao_IMG_9676_3.JPG', './CLS/prediction/mameasagao/mameasagao_IMG_4280_3.JPG', './CLS/prediction/mameasagao/mameasagao_IMG_4430_4.JPG', './CLS/prediction/mameasagao/mameasagao_IMG_0006_2.JPG', './CLS/prediction/mameasagao/mameasagao_IMG_4397_5.JPG', './CLS/prediction/mameasagao/mameasagao_IMG_4433_3.JPG', './CLS/prediction/mameasagao/mameasagao_IMG_4318_4.JPG', './CLS/prediction/mameasagao/mameasagao_IMG_4437_4.JPG', './CLS/prediction/mameasagao/mameasagao_IMG_9679_2.JPG', './CLS/prediction/mameasagao/mameasagao_IMG_4283_4.JPG', './CLS/prediction/mameasagao/mameasagao_IMG_4210_2.JPG', './CLS/prediction/mameasagao/mameasagao_IMG_9674_1.JPG', './CLS/prediction/mameasagao/mameasagao_IMG_4391_2.JPG', './CLS/prediction/mameasagao/mameasagao_IMG_4390_7.JPG', './CLS/prediction/mameasagao/mameasagao_IMG_4250_1.JPG', './CLS/prediction/mameasagao/mameasagao_IMG_8943_3.JPG', './CLS/prediction/mameasagao/mameasagao_IMG_9675_2.JPG', './CLS/prediction/mameasagao/mameasagao_IMG_4252_1.JPG', './CLS/prediction/mameasagao/mameasagao_IMG_4391_9.JPG', './CLS/prediction/mameasagao/mameasagao_IMG_9953_1.JPG', './CLS/prediction/mameasagao/mameasagao_IMG_4216_2.JPG', './CLS/prediction/mameasagao/mameasagao_IMG_4218_3.JPG', './CLS/prediction/mameasagao/mameasagao_IMG_4438_4.JPG', './CLS/prediction/mameasagao/mameasagao_IMG_4393_1.JPG', './CLS/prediction/mameasagao/mameasagao_IMG_4439_4.JPG', './CLS/prediction/mameasagao/mameasagao_IMG_4277_4.JPG', './CLS/prediction/mameasagao/mameasagao_IMG_9676_1.JPG', './CLS/prediction/mameasagao/mameasagao_IMG_4436_5.JPG', './CLS/prediction/mameasagao/mameasagao_IMG_0001_3.JPG', './CLS/prediction/mameasagao/mameasagao_IMG_4182_1.JPG']\n",
            "(224, 224, 3)\n",
            "['./CLS/prediction/mehishiba/mehishiba_IMG_1796_10.JPG', './CLS/prediction/mehishiba/mehishiba_IMG_1726_4.JPG', './CLS/prediction/mehishiba/mehishiba_IMG_1577_18.JPG', './CLS/prediction/mehishiba/mehishiba_IMG_1529_15.JPG', './CLS/prediction/mehishiba/mehishiba_IMG_1600_36.JPG', './CLS/prediction/mehishiba/mehishiba_IMG_1533_26.JPG', './CLS/prediction/mehishiba/mehishiba_IMG_1716_6.JPG', './CLS/prediction/mehishiba/mehishiba_IMG_1728_7.JPG', './CLS/prediction/mehishiba/mehishiba_IMG_1600_23.JPG', './CLS/prediction/mehishiba/mehishiba_IMG_1532_31.JPG', './CLS/prediction/mehishiba/mehishiba_IMG_1716_2.JPG', './CLS/prediction/mehishiba/mehishiba_IMG_4893_1.JPG', './CLS/prediction/mehishiba/mehishiba_IMG_1783_10.JPG', './CLS/prediction/mehishiba/mehishiba_IMG_1581_4.JPG', './CLS/prediction/mehishiba/mehishiba_IMG_1578_3.JPG', './CLS/prediction/mehishiba/mehishiba_IMG_1600_2.JPG', './CLS/prediction/mehishiba/mehishiba_IMG_1600_16.JPG', './CLS/prediction/mehishiba/mehishiba_IMG_1557_19.JPG', './CLS/prediction/mehishiba/mehishiba_IMG_1717_11.JPG', './CLS/prediction/mehishiba/mehishiba_IMG_1577_16.JPG', './CLS/prediction/mehishiba/mehishiba_IMG_1578_27.JPG', './CLS/prediction/mehishiba/mehishiba_IMG_4891_1.JPG', './CLS/prediction/mehishiba/mehishiba_IMG_4894_6.JPG', './CLS/prediction/mehishiba/mehishiba_IMG_4896_7.JPG', './CLS/prediction/mehishiba/mehishiba_IMG_1621_42.JPG', './CLS/prediction/mehishiba/mehishiba_IMG_4888_3.JPG', './CLS/prediction/mehishiba/mehishiba_IMG_1717_3.JPG', './CLS/prediction/mehishiba/mehishiba_IMG_4892_11.JPG', './CLS/prediction/mehishiba/mehishiba_IMG_1717_2.JPG', './CLS/prediction/mehishiba/mehishiba_IMG_1717_9.JPG', './CLS/prediction/mehishiba/mehishiba_IMG_1634_38.JPG', './CLS/prediction/mehishiba/mehishiba_IMG_1534_32.JPG', './CLS/prediction/mehishiba/mehishiba_IMG_1600_9.JPG', './CLS/prediction/mehishiba/mehishiba_IMG_1724_6.JPG', './CLS/prediction/mehishiba/mehishiba_IMG_1529_41.JPG', './CLS/prediction/mehishiba/mehishiba_IMG_1600_22.JPG', './CLS/prediction/mehishiba/mehishiba_IMG_1635_30.JPG', './CLS/prediction/mehishiba/mehishiba_IMG_1529_24.JPG', './CLS/prediction/mehishiba/mehishiba_IMG_1577_15.JPG', './CLS/prediction/mehishiba/mehishiba_IMG_4892_1.JPG']\n",
            "(224, 224, 3)\n",
            "['./CLS/prediction/ohishiba/ohishiba_IMG_1658_27.JPG', './CLS/prediction/ohishiba/ohishiba_IMG_1789_12.JPG', './CLS/prediction/ohishiba/ohishiba_IMG_1499_29.JPG', './CLS/prediction/ohishiba/ohishiba_IMG_1536_43.JPG', './CLS/prediction/ohishiba/ohishiba_IMG_1514_17.JPG', './CLS/prediction/ohishiba/ohishiba_IMG_1561_17.JPG', './CLS/prediction/ohishiba/ohishiba_IMG_1499_17.JPG', './CLS/prediction/ohishiba/ohishiba_IMG_1636_2.JPG', './CLS/prediction/ohishiba/ohishiba_IMG_1788_9.JPG', './CLS/prediction/ohishiba/ohishiba_IMG_1636_19.JPG', './CLS/prediction/ohishiba/ohishiba_IMG_1813_9.JPG', './CLS/prediction/ohishiba/ohishiba_IMG_1775_16.JPG', './CLS/prediction/ohishiba/ohishiba_IMG_1499_8.JPG', './CLS/prediction/ohishiba/ohishiba_IMG_1674_10.JPG', './CLS/prediction/ohishiba/ohishiba_IMG_1514_1.JPG', './CLS/prediction/ohishiba/ohishiba_IMG_1585_18.JPG', './CLS/prediction/ohishiba/ohishiba_IMG_1515_6.JPG', './CLS/prediction/ohishiba/ohishiba_IMG_1499_26.JPG', './CLS/prediction/ohishiba/ohishiba_IMG_1584_13.JPG', './CLS/prediction/ohishiba/ohishiba_IMG_1802_3.JPG', './CLS/prediction/ohishiba/ohishiba_IMG_1535_18.JPG', './CLS/prediction/ohishiba/ohishiba_IMG_1559_31.JPG', './CLS/prediction/ohishiba/ohishiba_IMG_1514_3.JPG', './CLS/prediction/ohishiba/ohishiba_IMG_1585_11.JPG', './CLS/prediction/ohishiba/ohishiba_IMG_1813_14.JPG', './CLS/prediction/ohishiba/ohishiba_IMG_1499_4.JPG', './CLS/prediction/ohishiba/ohishiba_IMG_1536_8.JPG', './CLS/prediction/ohishiba/ohishiba_IMG_1731_12.JPG', './CLS/prediction/ohishiba/ohishiba_IMG_1637_10.JPG', './CLS/prediction/ohishiba/ohishiba_IMG_1603_20.JPG', './CLS/prediction/ohishiba/ohishiba_IMG_1604_13.JPG', './CLS/prediction/ohishiba/ohishiba_IMG_1536_37.JPG', './CLS/prediction/ohishiba/ohishiba_IMG_1674_30.JPG', './CLS/prediction/ohishiba/ohishiba_IMG_1789_15.JPG', './CLS/prediction/ohishiba/ohishiba_IMG_1775_15.JPG', './CLS/prediction/ohishiba/ohishiba_IMG_1535_49.JPG', './CLS/prediction/ohishiba/ohishiba_IMG_1559_15.JPG', './CLS/prediction/ohishiba/ohishiba_IMG_1636_17.JPG', './CLS/prediction/ohishiba/ohishiba_IMG_1604_4.JPG', './CLS/prediction/ohishiba/ohishiba_IMG_1637_16.JPG']\n",
            "(224, 224, 3)\n",
            "['./CLS/prediction/oinutade/oinutade_IMG_1507_11.JPG', './CLS/prediction/oinutade/oinutade_IMG_1541_20.JPG', './CLS/prediction/oinutade/oinutade_IMG_1568_35.JPG', './CLS/prediction/oinutade/oinutade_IMG_1568_51.JPG', './CLS/prediction/oinutade/oinutade_IMG_1518_6.JPG', './CLS/prediction/oinutade/oinutade_IMG_1508_2.JPG', './CLS/prediction/oinutade/oinutade_IMG_1567_40.JPG', './CLS/prediction/oinutade/oinutade_IMG_1507_38.JPG', './CLS/prediction/oinutade/oinutade_IMG_1566_41.JPG', './CLS/prediction/oinutade/oinutade_IMG_1564_29.JPG', './CLS/prediction/oinutade/oinutade_IMG_1567_28.JPG', './CLS/prediction/oinutade/oinutade_IMG_1507_15.JPG', './CLS/prediction/oinutade/oinutade_IMG_1565_7.JPG', './CLS/prediction/oinutade/oinutade_IMG_1567_35.JPG', './CLS/prediction/oinutade/oinutade_IMG_1518_44.JPG', './CLS/prediction/oinutade/oinutade_IMG_1565_12.JPG', './CLS/prediction/oinutade/oinutade_IMG_1508_11.JPG', './CLS/prediction/oinutade/oinutade_IMG_1568_34.JPG', './CLS/prediction/oinutade/oinutade_IMG_1588_46.JPG', './CLS/prediction/oinutade/oinutade_IMG_1541_60.JPG', './CLS/prediction/oinutade/oinutade_IMG_1588_7.JPG', './CLS/prediction/oinutade/oinutade_IMG_1519_19.JPG', './CLS/prediction/oinutade/oinutade_IMG_1506_15.JPG', './CLS/prediction/oinutade/oinutade_IMG_1567_31.JPG', './CLS/prediction/oinutade/oinutade_IMG_1507_22.JPG', './CLS/prediction/oinutade/oinutade_IMG_1508_22.JPG', './CLS/prediction/oinutade/oinutade_IMG_1565_15.JPG', './CLS/prediction/oinutade/oinutade_IMG_1568_49.JPG', './CLS/prediction/oinutade/oinutade_IMG_1568_47.JPG', './CLS/prediction/oinutade/oinutade_IMG_1565_35.JPG', './CLS/prediction/oinutade/oinutade_IMG_1506_10.JPG', './CLS/prediction/oinutade/oinutade_IMG_1640_36.JPG', './CLS/prediction/oinutade/oinutade_IMG_1508_40.JPG', './CLS/prediction/oinutade/oinutade_IMG_1588_11.JPG', './CLS/prediction/oinutade/oinutade_IMG_1508_29.JPG', './CLS/prediction/oinutade/oinutade_IMG_1567_52.JPG', './CLS/prediction/oinutade/oinutade_IMG_1566_33.JPG', './CLS/prediction/oinutade/oinutade_IMG_1568_44.JPG', './CLS/prediction/oinutade/oinutade_IMG_1519_34.JPG', './CLS/prediction/oinutade/oinutade_IMG_1722_11.JPG']\n",
            "(224, 224, 3)\n",
            "['./CLS/prediction/shiroza/shiroza_IMG_1642_3.JPG', './CLS/prediction/shiroza/shiroza_IMG_1521_38.JPG', './CLS/prediction/shiroza/shiroza_IMG_1610_34.JPG', './CLS/prediction/shiroza/shiroza_IMG_1610_7.JPG', './CLS/prediction/shiroza/shiroza_IMG_1663_19.JPG', './CLS/prediction/shiroza/shiroza_IMG_1570_34.JPG', './CLS/prediction/shiroza/shiroza_IMG_1569_14.JPG', './CLS/prediction/shiroza/shiroza_IMG_1643_22.JPG', './CLS/prediction/shiroza/shiroza_IMG_1610_4.JPG', './CLS/prediction/shiroza/shiroza_IMG_1663_2.JPG', './CLS/prediction/shiroza/shiroza_IMG_1671_19.JPG', './CLS/prediction/shiroza/shiroza_IMG_1664_29.JPG', './CLS/prediction/shiroza/shiroza_IMG_1570_35.JPG', './CLS/prediction/shiroza/shiroza_IMG_1569_37.JPG', './CLS/prediction/shiroza/shiroza_IMG_1642_11.JPG', './CLS/prediction/shiroza/shiroza_IMG_1520_19.JPG', './CLS/prediction/shiroza/shiroza_IMG_1670_5.JPG', './CLS/prediction/shiroza/shiroza_IMG_1542_4.JPG', './CLS/prediction/shiroza/shiroza_IMG_1611_1.JPG', './CLS/prediction/shiroza/shiroza_IMG_1611_26.JPG', './CLS/prediction/shiroza/shiroza_IMG_1611_37.JPG', './CLS/prediction/shiroza/shiroza_IMG_1663_10.JPG', './CLS/prediction/shiroza/shiroza_IMG_1570_9.JPG', './CLS/prediction/shiroza/shiroza_IMG_1663_20.JPG', './CLS/prediction/shiroza/shiroza_IMG_1520_7.JPG', './CLS/prediction/shiroza/shiroza_IMG_1569_42.JPG', './CLS/prediction/shiroza/shiroza_IMG_1542_26.JPG', './CLS/prediction/shiroza/shiroza_IMG_1590_14.JPG', './CLS/prediction/shiroza/shiroza_IMG_1611_19.JPG', './CLS/prediction/shiroza/shiroza_IMG_1521_26.JPG', './CLS/prediction/shiroza/shiroza_IMG_1642_12.JPG', './CLS/prediction/shiroza/shiroza_IMG_1642_28.JPG', './CLS/prediction/shiroza/shiroza_IMG_1521_16.JPG', './CLS/prediction/shiroza/shiroza_IMG_1611_34.JPG', './CLS/prediction/shiroza/shiroza_IMG_1642_30.JPG', './CLS/prediction/shiroza/shiroza_IMG_1670_4.JPG', './CLS/prediction/shiroza/shiroza_IMG_1521_39.JPG', './CLS/prediction/shiroza/shiroza_IMG_1611_3.JPG', './CLS/prediction/shiroza/shiroza_IMG_1643_21.JPG', './CLS/prediction/shiroza/shiroza_IMG_1591_16.JPG']\n",
            "(224, 224, 3)\n",
            "prediction data prepared！\n",
            "predictionデータ作成完了！\n"
          ]
        }
      ]
    },
    {
      "cell_type": "markdown",
      "metadata": {
        "id": "iJiCyfYW8GKy"
      },
      "source": [
        "Function for Confusion Matrix  \n",
        "混同行列(Confusion Matrix)表示用の関数を定義します"
      ]
    },
    {
      "cell_type": "code",
      "metadata": {
        "id": "SGZMSUefz-C5",
        "colab": {
          "base_uri": "https://localhost:8080/"
        },
        "outputId": "6e4ea638-d06f-4a81-a8c9-0785f9b4ffa1"
      },
      "source": [
        "from sklearn.metrics import confusion_matrix\n",
        "import itertools\n",
        "\n",
        "def plot_confusion_matrix(cm, classes,\n",
        "                          normalize=False,\n",
        "                          title='Confusion matrix',\n",
        "                          cmap=plt.cm.Blues):\n",
        "    \"\"\"\n",
        "    This function prints and plots the confusion matrix.\n",
        "    Normalization can be applied by setting `normalize=True`.\n",
        "    \"\"\"\n",
        "    if normalize:\n",
        "        cm = cm.astype('float') / cm.sum(axis=1)[:, np.newaxis]\n",
        "        print(\"Normalized confusion matrix\")\n",
        "    else:\n",
        "        print('Confusion matrix, without normalization')\n",
        "\n",
        "    # print(cm)\n",
        "\n",
        "    plt.imshow(cm, interpolation='nearest', cmap=cmap)\n",
        "    plt.title(title)\n",
        "    plt.colorbar()\n",
        "    tick_marks = np.arange(len(classes))\n",
        "    plt.xticks(tick_marks, classes, rotation=-90)\n",
        "    plt.yticks(tick_marks, classes)\n",
        "\n",
        "    fmt = '.2f' if normalize else 'd'\n",
        "    thresh = cm.max() / 2.\n",
        "    for i, j in itertools.product(range(cm.shape[0]), range(cm.shape[1])):\n",
        "        plt.text(j, i, format(cm[i, j], fmt),\n",
        "                 horizontalalignment=\"center\",\n",
        "                 color=\"white\" if cm[i, j] > thresh else \"black\")\n",
        "\n",
        "    plt.tight_layout()\n",
        "    plt.ylabel('True label')\n",
        "    plt.xlabel('Predicted label')\n",
        "\n",
        "print(\"function for confusion matrix\")\n",
        "print(\"混同行列表示用の関数を定義しました！\")"
      ],
      "execution_count": null,
      "outputs": [
        {
          "output_type": "stream",
          "name": "stdout",
          "text": [
            "function for confusion matrix\n",
            "混同行列表示用の関数を定義しました！\n"
          ]
        }
      ]
    },
    {
      "cell_type": "markdown",
      "metadata": {
        "id": "HVEpU5mMEEOi"
      },
      "source": [
        "load weight file for testing  \n",
        "保存したweightファイルをロードしてテストを行います"
      ]
    },
    {
      "cell_type": "code",
      "source": [
        "def sin_predict():\n",
        "    X_test, y_test = X_test1, y_test1\n",
        "    X_test = X_test / 255.0\n",
        "    y_test_label = np.ravel(y_test)\n",
        "    y_test = to_categorical(y_test)\n",
        "\n",
        "    train_model = create_cnn()\n",
        "    # train_model.compile(optimizer=adam_v2.Adam(learning_rate=1e-5),loss='categorical_crossentropy',metrics=['accuracy'])\n",
        "    train_model.compile(optimizer=Adam(learning_rate=1e-5),loss='categorical_crossentropy',metrics=['accuracy'])\n",
        "\n",
        "    # 最良のモデルの読み込み\n",
        "    train_model.load_weights(f\"weights.hdf5\")\n",
        "    for layer in train_model.layers:\n",
        "      layer.trainable = False\n",
        "\n",
        "    # 単体のテスト\n",
        "    single_pred = np.argmax(train_model.predict(X_test), axis=-1)\n",
        "\n",
        "    # テストのスコア\n",
        "    test_acc = accuracy_score(y_test, to_categorical(single_pred))\n",
        "\n",
        "    print(\"test accuracy is\", test_acc, )\n",
        "    print(\"テストの結果は\", test_acc, \"です\")\n",
        "\n",
        "    target_names = [\"hakidamegiku\",\"hosoaogeitou\",\"ichibi\",\"inubie\",\"kosendangusa\",\"mameasagao\",\"mehishiba\",\"ohishiba\",\"oinutade\",\"shiroza\"]\n",
        "    cm = confusion_matrix(y_test_label, single_pred)\n",
        "    plot_confusion_matrix(cm, classes = target_names)\n",
        "print(\"function for testing use！\")\n",
        "print(\"テスト用の関数を定義しました！\")"
      ],
      "metadata": {
        "id": "HLTTTKJUUCHg",
        "colab": {
          "base_uri": "https://localhost:8080/"
        },
        "outputId": "5d00b3c4-408a-4709-b600-d50ee321514a"
      },
      "execution_count": null,
      "outputs": [
        {
          "output_type": "stream",
          "name": "stdout",
          "text": [
            "function for testing use！\n",
            "テスト用の関数を定義しました！\n"
          ]
        }
      ]
    },
    {
      "cell_type": "code",
      "source": [
        "# testing\n",
        "sin_predict()"
      ],
      "metadata": {
        "id": "E0JiHw1Y3ZL6",
        "colab": {
          "base_uri": "https://localhost:8080/",
          "height": 580
        },
        "outputId": "8a15cf3d-5959-4f05-ea79-ca6251dd7d72"
      },
      "execution_count": null,
      "outputs": [
        {
          "output_type": "stream",
          "name": "stdout",
          "text": [
            "13/13 [==============================] - 9s 329ms/step\n",
            "test accuracy is 0.9075\n",
            "テストの結果は 0.9075 です\n",
            "Confusion matrix, without normalization\n"
          ]
        },
        {
          "output_type": "display_data",
          "data": {
            "text/plain": [
              "<Figure size 640x480 with 2 Axes>"
            ],
            "image/png": "[encoded data removed]"
          },
          "metadata": {}
        }
      ]
    },
    {
      "cell_type": "markdown",
      "metadata": {
        "id": "b340YPV35B--"
      },
      "source": [
        "### Test on customized data  \n",
        "任意の写真をテストします"
      ]
    },
    {
      "cell_type": "markdown",
      "metadata": {
        "id": "343MbhcH5lUv"
      },
      "source": [
        "function for test customized data  \n",
        "画像テスト用の関数を定義します"
      ]
    },
    {
      "cell_type": "code",
      "metadata": {
        "id": "YTKPufr6xSGa",
        "colab": {
          "base_uri": "https://localhost:8080/"
        },
        "outputId": "eb6eac5e-721c-4f0b-ed84-bff266071200"
      },
      "source": [
        "def result_predict(path):\n",
        "    prediction_classes = [\"hakidamegiku\",\"hosoaogeitou\",\"ichibi\",\"inubie\",\"kosendangusa\",\"mameasagao\",\"mehishiba\",\"ohishiba\",\"oinutade\",\"shiroza\"]\n",
        "\n",
        "    train_model = create_cnn()\n",
        "    # train_model.compile(optimizer=adam_v2.Adam(lr=1e-5),loss='categorical_crossentropy',metrics=['accuracy'])\n",
        "    train_model.compile(optimizer=Adam(lr=1e-5),loss='categorical_crossentropy',metrics=['accuracy'])\n",
        "\n",
        "    # 最良のモデルの読み込み\n",
        "    train_model.load_weights(f\"weights.hdf5\")\n",
        "    for layer in train_model.layers:\n",
        "        layer.trainable = False\n",
        "\n",
        "    X_test = []\n",
        "    image_size = 224\n",
        "    image = Image.open(path)\n",
        "    image = image.convert(\"RGB\")\n",
        "    image = image.resize((image_size, image_size))\n",
        "    data = np.asarray(image)\n",
        "    X_test.append(data)\n",
        "    X_test = np.array(X_test) / 255.0\n",
        "    result = np.argmax(train_model.predict(X_test), axis=-1)\n",
        "    print(\"This picture is :\", prediction_classes[result[0]])\n",
        "    print(\"雑草の種類は :\", prediction_classes[result[0]])\n",
        "print(\"defined function for testing！\")\n",
        "print(\"画像テスト用の関数を定義しました！\")"
      ],
      "execution_count": null,
      "outputs": [
        {
          "output_type": "stream",
          "name": "stdout",
          "text": [
            "defined function for testing！\n",
            "画像テスト用の関数を定義しました！\n"
          ]
        }
      ]
    },
    {
      "cell_type": "markdown",
      "metadata": {
        "id": "4gLtWRQr5Z_m"
      },
      "source": [
        "pick your own data and test  \n",
        "there is a [question online](https://detail.chiebukuro.yahoo.co.jp/qa/question_detail/q13159032353), lets try to answer it   \n",
        "predictionディレクトリから任意の写真を選択しpathを設定します"
      ]
    },
    {
      "cell_type": "code",
      "metadata": {
        "id": "xMTohBSJyDMc",
        "colab": {
          "base_uri": "https://localhost:8080/"
        },
        "outputId": "40d34b4a-dc1c-4254-e2be-992fd84baf7b"
      },
      "source": [
        "!wget 'https://www.dropbox.com/s/cr4ldvg6gvlv2kz/kosendangusa.jpg'\n",
        "patht1 = \"/content/kosendangusa.jpg\"\n",
        "patht2= os.path.join(base_dir, \"prediction\", \"kosendangusa\", \"kosendangusa.jpg\")\n",
        "new_path = shutil.copy(patht1, patht2)\n",
        "image_dir = \"/content/CLS/prediction/kosendangusa/kosendangusa.jpg\""
      ],
      "execution_count": null,
      "outputs": [
        {
          "output_type": "stream",
          "name": "stdout",
          "text": [
            "--2023-06-26 03:41:20--  https://www.dropbox.com/s/cr4ldvg6gvlv2kz/kosendangusa.jpg\n",
            "Resolving www.dropbox.com (www.dropbox.com)... 162.125.81.18, 2620:100:6025:18::a27d:4512\n",
            "Connecting to www.dropbox.com (www.dropbox.com)|162.125.81.18|:443... connected.\n",
            "HTTP request sent, awaiting response... 302 Found\n",
            "Location: /s/raw/cr4ldvg6gvlv2kz/kosendangusa.jpg [following]\n",
            "--2023-06-26 03:41:20--  https://www.dropbox.com/s/raw/cr4ldvg6gvlv2kz/kosendangusa.jpg\n",
            "Reusing existing connection to www.dropbox.com:443.\n",
            "HTTP request sent, awaiting response... 302 Found\n",
            "Location: https://uc2ff7e30ae317c14f3645258cad.dl.dropboxusercontent.com/cd/0/inline/B-uQrttrvEtKPiE-F8C0lyybzVbQ0cMMLowE3bpTc3vZ7knxohqXUCyx-D62Lv1W3wbUhUofrW88FV3NH4ZZkefejGk3ECesMJcQaA6oFCo01Q-GQFc-nGQ-aA4UA5JmL5dr0S2u4Mlp7zeDdfm6udSYfU3iW5YTuDZtuSemgA_fnQ/file# [following]\n",
            "--2023-06-26 03:41:21--  https://uc2ff7e30ae317c14f3645258cad.dl.dropboxusercontent.com/cd/0/inline/B-uQrttrvEtKPiE-F8C0lyybzVbQ0cMMLowE3bpTc3vZ7knxohqXUCyx-D62Lv1W3wbUhUofrW88FV3NH4ZZkefejGk3ECesMJcQaA6oFCo01Q-GQFc-nGQ-aA4UA5JmL5dr0S2u4Mlp7zeDdfm6udSYfU3iW5YTuDZtuSemgA_fnQ/file\n",
            "Resolving uc2ff7e30ae317c14f3645258cad.dl.dropboxusercontent.com (uc2ff7e30ae317c14f3645258cad.dl.dropboxusercontent.com)... 162.125.81.15, 2620:100:6031:15::a27d:510f\n",
            "Connecting to uc2ff7e30ae317c14f3645258cad.dl.dropboxusercontent.com (uc2ff7e30ae317c14f3645258cad.dl.dropboxusercontent.com)|162.125.81.15|:443... connected.\n",
            "HTTP request sent, awaiting response... 200 OK\n",
            "Length: 101099 (99K) [image/jpeg]\n",
            "Saving to: ‘kosendangusa.jpg’\n",
            "\n",
            "kosendangusa.jpg    100%[===================>]  98.73K  --.-KB/s    in 0.003s  \n",
            "\n",
            "2023-06-26 03:41:21 (35.9 MB/s) - ‘kosendangusa.jpg’ saved [101099/101099]\n",
            "\n"
          ]
        }
      ]
    },
    {
      "cell_type": "code",
      "source": [
        "result_predict(image_dir)"
      ],
      "metadata": {
        "id": "GVv-bglqdZL9",
        "colab": {
          "base_uri": "https://localhost:8080/"
        },
        "outputId": "6bce140e-c287-48c4-de0a-4370298667f8"
      },
      "execution_count": null,
      "outputs": [
        {
          "output_type": "stream",
          "name": "stderr",
          "text": [
            "/usr/local/lib/python3.10/dist-packages/keras/optimizers/legacy/adam.py:117: UserWarning: The `lr` argument is deprecated, use `learning_rate` instead.\n",
            "  super().__init__(name, **kwargs)\n"
          ]
        },
        {
          "output_type": "stream",
          "name": "stdout",
          "text": [
            "1/1 [==============================] - 1s 771ms/step\n",
            "This picture is : kosendangusa\n",
            "雑草の種類は : kosendangusa\n"
          ]
        }
      ]
    }
  ]
}